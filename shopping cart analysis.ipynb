{
 "cells": [
  {
   "cell_type": "code",
   "execution_count": null,
   "id": "8b96d7b6",
   "metadata": {},
   "outputs": [],
   "source": [
    "# importing libraries\n",
    "import pandas as pd             # data science essentials\n",
    "import matplotlib.pyplot as plt # essential graphical output\n",
    "import seaborn as sns \n",
    "\n",
    "\n",
    "file = \"/Users/nicolamagnani/Downloads/transactions_binary.xlsx\"\n",
    "\n",
    "cart = pd.read_excel(io=file)\n",
    "\n",
    "\n",
    "column_sums = cart.sum()  # Calculate the sum of each column\n",
    "\n",
    "cart = cart.append(column_sums, ignore_index=True)  # Append the sums as a new row \n",
    "\n",
    "#i created the occurrency for each product \n",
    "\n",
    "#now the support for each of them\n",
    "\n",
    "N=9835\n",
    "\n",
    "new_row = cart.iloc[-1] / N  # Divide the last row by tot trans\n",
    "\n",
    "cart = cart.append(new_row, ignore_index=True)  # Append the new row\n",
    "\n"
   ]
  },
  {
   "cell_type": "code",
   "execution_count": null,
   "id": "f3e84464",
   "metadata": {},
   "outputs": [],
   "source": [
    "fixed_column = 'soda'  # Specify the column to fix\n",
    "\n",
    "# Calculate the number of times each column matches the fixed column and equals 1\n",
    "count_dict = {}\n",
    "for col in cart.columns:\n",
    "    count_dict[col] = ((cart[col] == cart[fixed_column]) & (cart[col] == 1)).sum()\n",
    "\n",
    "# Add the counts as a new row at the end of the DataFrame\n",
    "cart_counts = pd.DataFrame(count_dict, index=['Count'])\n",
    "\n",
    "cart = pd.concat([cart, cart_counts], ignore_index=True) #i've nab"
   ]
  },
  {
   "cell_type": "code",
   "execution_count": null,
   "id": "34be1861",
   "metadata": {},
   "outputs": [],
   "source": [
    "quotient_row = cart.iloc[-1] / cart.iloc[-3]      # nab  :  na  \n",
    "\n",
    "\n",
    "\n",
    "# Add the quotient row at the end of the DataFrame\n",
    "cart = cart.append(quotient_row, ignore_index=True) #i've the confidence"
   ]
  },
  {
   "cell_type": "code",
   "execution_count": null,
   "id": "3b335ac9",
   "metadata": {},
   "outputs": [],
   "source": [
    "# lift confidence / support\n",
    "N=9835\n",
    "# N is tot trans\n",
    "#Nb is occurrency of soda\n",
    "nb=cart.loc[9835, 'soda']\n",
    "\n",
    "new_quotient_row = (cart.iloc[-2])*N / (cart.iloc[-4]*nb)      # nab*N  :  na*nb  \n",
    "\n",
    "\n",
    "\n",
    "# Add the quotient row at the end of the DataFrame\n",
    "cart = cart.append(new_quotient_row, ignore_index=True) #i've the confidence"
   ]
  },
  {
   "cell_type": "code",
   "execution_count": null,
   "id": "517a93ef",
   "metadata": {},
   "outputs": [],
   "source": [
    "cart.to_excel('new_file.xlsx', index=False)\n",
    "\n",
    "#NEW FILE TO WORK\n"
   ]
  }
 ],
 "metadata": {
  "kernelspec": {
   "display_name": "Python 3 (ipykernel)",
   "language": "python",
   "name": "python3"
  },
  "language_info": {
   "codemirror_mode": {
    "name": "ipython",
    "version": 3
   },
   "file_extension": ".py",
   "mimetype": "text/x-python",
   "name": "python",
   "nbconvert_exporter": "python",
   "pygments_lexer": "ipython3",
   "version": "3.9.13"
  },
  "toc": {
   "base_numbering": 1,
   "nav_menu": {},
   "number_sections": true,
   "sideBar": true,
   "skip_h1_title": false,
   "title_cell": "Table of Contents",
   "title_sidebar": "Contents",
   "toc_cell": false,
   "toc_position": {},
   "toc_section_display": true,
   "toc_window_display": false
  },
  "varInspector": {
   "cols": {
    "lenName": 16,
    "lenType": 16,
    "lenVar": 40
   },
   "kernels_config": {
    "python": {
     "delete_cmd_postfix": "",
     "delete_cmd_prefix": "del ",
     "library": "var_list.py",
     "varRefreshCmd": "print(var_dic_list())"
    },
    "r": {
     "delete_cmd_postfix": ") ",
     "delete_cmd_prefix": "rm(",
     "library": "var_list.r",
     "varRefreshCmd": "cat(var_dic_list()) "
    }
   },
   "types_to_exclude": [
    "module",
    "function",
    "builtin_function_or_method",
    "instance",
    "_Feature"
   ],
   "window_display": false
  }
 },
 "nbformat": 4,
 "nbformat_minor": 5
}
